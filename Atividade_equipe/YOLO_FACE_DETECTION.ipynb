{
  "cells": [
    {
      "cell_type": "markdown",
      "metadata": {
        "id": "view-in-github",
        "colab_type": "text"
      },
      "source": [
        "<a href=\"https://colab.research.google.com/github/Gionauta/Avanti-Bootcamp-Machine-Learning/blob/main/YOLO_FACE_DETECTION.ipynb\" target=\"_parent\"><img src=\"https://colab.research.google.com/assets/colab-badge.svg\" alt=\"Open In Colab\"/></a>"
      ]
    },
    {
      "cell_type": "markdown",
      "metadata": {
        "id": "Vj5IaShWvEJk"
      },
      "source": [
        "# 📦 Required Dependencies"
      ]
    },
    {
      "cell_type": "code",
      "execution_count": null,
      "metadata": {
        "id": "3coIM1lF_qh4",
        "colab": {
          "base_uri": "https://localhost:8080/"
        },
        "outputId": "a361e1bc-f101-4909-ad2b-3665df13d9c1"
      },
      "outputs": [
        {
          "output_type": "stream",
          "name": "stdout",
          "text": [
            "Requirement already satisfied: pyproject-toml in /usr/local/lib/python3.10/dist-packages (0.0.10)\n",
            "Requirement already satisfied: setuptools>=42 in /usr/local/lib/python3.10/dist-packages (from pyproject-toml) (67.7.2)\n",
            "Requirement already satisfied: wheel in /usr/local/lib/python3.10/dist-packages (from pyproject-toml) (0.41.3)\n",
            "Requirement already satisfied: toml in /usr/local/lib/python3.10/dist-packages (from pyproject-toml) (0.10.2)\n",
            "Requirement already satisfied: jsonschema in /usr/local/lib/python3.10/dist-packages (from pyproject-toml) (4.19.2)\n",
            "Requirement already satisfied: attrs>=22.2.0 in /usr/local/lib/python3.10/dist-packages (from jsonschema->pyproject-toml) (23.1.0)\n",
            "Requirement already satisfied: jsonschema-specifications>=2023.03.6 in /usr/local/lib/python3.10/dist-packages (from jsonschema->pyproject-toml) (2023.7.1)\n",
            "Requirement already satisfied: referencing>=0.28.4 in /usr/local/lib/python3.10/dist-packages (from jsonschema->pyproject-toml) (0.30.2)\n",
            "Requirement already satisfied: rpds-py>=0.7.1 in /usr/local/lib/python3.10/dist-packages (from jsonschema->pyproject-toml) (0.12.0)\n"
          ]
        }
      ],
      "source": [
        "!pip install pyproject-toml"
      ]
    },
    {
      "cell_type": "code",
      "execution_count": null,
      "metadata": {
        "id": "aK6n0BSb930K",
        "colab": {
          "base_uri": "https://localhost:8080/"
        },
        "outputId": "eff26d29-f7f1-4ae2-e6da-874c7a89f5d2"
      },
      "outputs": [
        {
          "output_type": "stream",
          "name": "stdout",
          "text": [
            "Requirement already satisfied: super-gradients in /usr/local/lib/python3.10/dist-packages (3.4.1)\n",
            "Requirement already satisfied: torch>=1.9.0 in /usr/local/lib/python3.10/dist-packages (from super-gradients) (2.1.0+cu118)\n",
            "Requirement already satisfied: tqdm>=4.57.0 in /usr/local/lib/python3.10/dist-packages (from super-gradients) (4.66.1)\n",
            "Requirement already satisfied: boto3>=1.17.15 in /usr/local/lib/python3.10/dist-packages (from super-gradients) (1.29.2)\n",
            "Requirement already satisfied: jsonschema>=3.2.0 in /usr/local/lib/python3.10/dist-packages (from super-gradients) (4.19.2)\n",
            "Requirement already satisfied: Deprecated>=1.2.11 in /usr/local/lib/python3.10/dist-packages (from super-gradients) (1.2.14)\n",
            "Requirement already satisfied: opencv-python>=4.5.1 in /usr/local/lib/python3.10/dist-packages (from super-gradients) (4.8.0.76)\n",
            "Requirement already satisfied: scipy>=1.6.1 in /usr/local/lib/python3.10/dist-packages (from super-gradients) (1.11.3)\n",
            "Requirement already satisfied: matplotlib>=3.3.4 in /usr/local/lib/python3.10/dist-packages (from super-gradients) (3.7.1)\n",
            "Requirement already satisfied: psutil>=5.8.0 in /usr/local/lib/python3.10/dist-packages (from super-gradients) (5.9.5)\n",
            "Requirement already satisfied: tensorboard>=2.4.1 in /usr/local/lib/python3.10/dist-packages (from super-gradients) (2.14.1)\n",
            "Requirement already satisfied: setuptools>=21.0.0 in /usr/local/lib/python3.10/dist-packages (from super-gradients) (67.7.2)\n",
            "Requirement already satisfied: coverage~=5.3.1 in /usr/local/lib/python3.10/dist-packages (from super-gradients) (5.3.1)\n",
            "Requirement already satisfied: torchvision>=0.10.0 in /usr/local/lib/python3.10/dist-packages (from super-gradients) (0.16.0+cu118)\n",
            "Requirement already satisfied: sphinx~=4.0.2 in /usr/local/lib/python3.10/dist-packages (from super-gradients) (4.0.3)\n",
            "Requirement already satisfied: sphinx-rtd-theme in /usr/local/lib/python3.10/dist-packages (from super-gradients) (1.3.0)\n",
            "Requirement already satisfied: torchmetrics==0.8 in /usr/local/lib/python3.10/dist-packages (from super-gradients) (0.8.0)\n",
            "Requirement already satisfied: hydra-core>=1.2.0 in /usr/local/lib/python3.10/dist-packages (from super-gradients) (1.3.2)\n",
            "Requirement already satisfied: omegaconf in /usr/local/lib/python3.10/dist-packages (from super-gradients) (2.3.0)\n",
            "Requirement already satisfied: onnxruntime==1.13.1 in /usr/local/lib/python3.10/dist-packages (from super-gradients) (1.13.1)\n",
            "Requirement already satisfied: onnx==1.13.0 in /usr/local/lib/python3.10/dist-packages (from super-gradients) (1.13.0)\n",
            "Requirement already satisfied: pillow!=8.3,>=5.3.0 in /usr/local/lib/python3.10/dist-packages (from super-gradients) (9.4.0)\n",
            "Requirement already satisfied: pip-tools>=6.12.1 in /usr/local/lib/python3.10/dist-packages (from super-gradients) (6.13.0)\n",
            "Requirement already satisfied: pyparsing==2.4.5 in /usr/local/lib/python3.10/dist-packages (from super-gradients) (2.4.5)\n",
            "Requirement already satisfied: einops==0.3.2 in /usr/local/lib/python3.10/dist-packages (from super-gradients) (0.3.2)\n",
            "Requirement already satisfied: pycocotools==2.0.6 in /usr/local/lib/python3.10/dist-packages (from super-gradients) (2.0.6)\n",
            "Requirement already satisfied: protobuf==3.20.3 in /usr/local/lib/python3.10/dist-packages (from super-gradients) (3.20.3)\n",
            "Requirement already satisfied: treelib==1.6.1 in /usr/local/lib/python3.10/dist-packages (from super-gradients) (1.6.1)\n",
            "Requirement already satisfied: termcolor==1.1.0 in /usr/local/lib/python3.10/dist-packages (from super-gradients) (1.1.0)\n",
            "Requirement already satisfied: packaging>=20.4 in /usr/local/lib/python3.10/dist-packages (from super-gradients) (23.2)\n",
            "Requirement already satisfied: wheel>=0.38.0 in /usr/local/lib/python3.10/dist-packages (from super-gradients) (0.41.3)\n",
            "Requirement already satisfied: pygments>=2.7.4 in /usr/local/lib/python3.10/dist-packages (from super-gradients) (2.16.1)\n",
            "Requirement already satisfied: stringcase>=1.2.0 in /usr/local/lib/python3.10/dist-packages (from super-gradients) (1.2.0)\n",
            "Requirement already satisfied: numpy<=1.23 in /usr/local/lib/python3.10/dist-packages (from super-gradients) (1.23.0)\n",
            "Requirement already satisfied: rapidfuzz in /usr/local/lib/python3.10/dist-packages (from super-gradients) (3.5.2)\n",
            "Requirement already satisfied: json-tricks==3.16.1 in /usr/local/lib/python3.10/dist-packages (from super-gradients) (3.16.1)\n",
            "Requirement already satisfied: onnx-simplifier<1.0,>=0.4.3 in /usr/local/lib/python3.10/dist-packages (from super-gradients) (0.4.35)\n",
            "Requirement already satisfied: data-gradients>=0.3.0 in /usr/local/lib/python3.10/dist-packages (from super-gradients) (0.3.0)\n",
            "Requirement already satisfied: typing-extensions>=3.6.2.1 in /usr/local/lib/python3.10/dist-packages (from onnx==1.13.0->super-gradients) (4.5.0)\n",
            "Requirement already satisfied: coloredlogs in /usr/local/lib/python3.10/dist-packages (from onnxruntime==1.13.1->super-gradients) (15.0.1)\n",
            "Requirement already satisfied: flatbuffers in /usr/local/lib/python3.10/dist-packages (from onnxruntime==1.13.1->super-gradients) (23.5.26)\n",
            "Requirement already satisfied: sympy in /usr/local/lib/python3.10/dist-packages (from onnxruntime==1.13.1->super-gradients) (1.12)\n",
            "Requirement already satisfied: pyDeprecate==0.3.* in /usr/local/lib/python3.10/dist-packages (from torchmetrics==0.8->super-gradients) (0.3.2)\n",
            "Requirement already satisfied: future in /usr/local/lib/python3.10/dist-packages (from treelib==1.6.1->super-gradients) (0.18.3)\n",
            "Requirement already satisfied: botocore<1.33.0,>=1.32.2 in /usr/local/lib/python3.10/dist-packages (from boto3>=1.17.15->super-gradients) (1.32.2)\n",
            "Requirement already satisfied: jmespath<2.0.0,>=0.7.1 in /usr/local/lib/python3.10/dist-packages (from boto3>=1.17.15->super-gradients) (1.0.1)\n",
            "Requirement already satisfied: s3transfer<0.8.0,>=0.7.0 in /usr/local/lib/python3.10/dist-packages (from boto3>=1.17.15->super-gradients) (0.7.0)\n",
            "Requirement already satisfied: platformdirs>=2.5.2 in /usr/local/lib/python3.10/dist-packages (from data-gradients>=0.3.0->super-gradients) (3.11.0)\n",
            "Requirement already satisfied: seaborn in /usr/local/lib/python3.10/dist-packages (from data-gradients>=0.3.0->super-gradients) (0.12.2)\n",
            "Requirement already satisfied: xhtml2pdf==0.2.11 in /usr/local/lib/python3.10/dist-packages (from data-gradients>=0.3.0->super-gradients) (0.2.11)\n",
            "Requirement already satisfied: jinja2 in /usr/local/lib/python3.10/dist-packages (from data-gradients>=0.3.0->super-gradients) (3.1.2)\n",
            "Requirement already satisfied: imagededup in /usr/local/lib/python3.10/dist-packages (from data-gradients>=0.3.0->super-gradients) (0.3.2)\n",
            "Requirement already satisfied: arabic-reshaper>=3.0.0 in /usr/local/lib/python3.10/dist-packages (from xhtml2pdf==0.2.11->data-gradients>=0.3.0->super-gradients) (3.0.0)\n",
            "Requirement already satisfied: html5lib>=1.0.1 in /usr/local/lib/python3.10/dist-packages (from xhtml2pdf==0.2.11->data-gradients>=0.3.0->super-gradients) (1.1)\n",
            "Requirement already satisfied: pyHanko>=0.12.1 in /usr/local/lib/python3.10/dist-packages (from xhtml2pdf==0.2.11->data-gradients>=0.3.0->super-gradients) (0.20.1)\n",
            "Requirement already satisfied: pyhanko-certvalidator>=0.19.5 in /usr/local/lib/python3.10/dist-packages (from xhtml2pdf==0.2.11->data-gradients>=0.3.0->super-gradients) (0.24.1)\n",
            "Requirement already satisfied: pypdf>=3.1.0 in /usr/local/lib/python3.10/dist-packages (from xhtml2pdf==0.2.11->data-gradients>=0.3.0->super-gradients) (3.17.1)\n",
            "Requirement already satisfied: python-bidi>=0.4.2 in /usr/local/lib/python3.10/dist-packages (from xhtml2pdf==0.2.11->data-gradients>=0.3.0->super-gradients) (0.4.2)\n",
            "Requirement already satisfied: reportlab<4,>=3.5.53 in /usr/local/lib/python3.10/dist-packages (from xhtml2pdf==0.2.11->data-gradients>=0.3.0->super-gradients) (3.6.13)\n",
            "Requirement already satisfied: svglib>=1.2.1 in /usr/local/lib/python3.10/dist-packages (from xhtml2pdf==0.2.11->data-gradients>=0.3.0->super-gradients) (1.5.1)\n",
            "Requirement already satisfied: wrapt<2,>=1.10 in /usr/local/lib/python3.10/dist-packages (from Deprecated>=1.2.11->super-gradients) (1.14.1)\n",
            "Requirement already satisfied: antlr4-python3-runtime==4.9.* in /usr/local/lib/python3.10/dist-packages (from hydra-core>=1.2.0->super-gradients) (4.9.3)\n",
            "Requirement already satisfied: attrs>=22.2.0 in /usr/local/lib/python3.10/dist-packages (from jsonschema>=3.2.0->super-gradients) (23.1.0)\n",
            "Requirement already satisfied: jsonschema-specifications>=2023.03.6 in /usr/local/lib/python3.10/dist-packages (from jsonschema>=3.2.0->super-gradients) (2023.7.1)\n",
            "Requirement already satisfied: referencing>=0.28.4 in /usr/local/lib/python3.10/dist-packages (from jsonschema>=3.2.0->super-gradients) (0.30.2)\n",
            "Requirement already satisfied: rpds-py>=0.7.1 in /usr/local/lib/python3.10/dist-packages (from jsonschema>=3.2.0->super-gradients) (0.12.0)\n",
            "Requirement already satisfied: contourpy>=1.0.1 in /usr/local/lib/python3.10/dist-packages (from matplotlib>=3.3.4->super-gradients) (1.2.0)\n",
            "Requirement already satisfied: cycler>=0.10 in /usr/local/lib/python3.10/dist-packages (from matplotlib>=3.3.4->super-gradients) (0.12.1)\n",
            "Requirement already satisfied: fonttools>=4.22.0 in /usr/local/lib/python3.10/dist-packages (from matplotlib>=3.3.4->super-gradients) (4.44.0)\n",
            "Requirement already satisfied: kiwisolver>=1.0.1 in /usr/local/lib/python3.10/dist-packages (from matplotlib>=3.3.4->super-gradients) (1.4.5)\n",
            "Requirement already satisfied: python-dateutil>=2.7 in /usr/local/lib/python3.10/dist-packages (from matplotlib>=3.3.4->super-gradients) (2.8.2)\n",
            "Requirement already satisfied: PyYAML>=5.1.0 in /usr/local/lib/python3.10/dist-packages (from omegaconf->super-gradients) (6.0.1)\n",
            "Requirement already satisfied: rich in /usr/local/lib/python3.10/dist-packages (from onnx-simplifier<1.0,>=0.4.3->super-gradients) (13.6.0)\n",
            "Requirement already satisfied: build in /usr/local/lib/python3.10/dist-packages (from pip-tools>=6.12.1->super-gradients) (1.0.3)\n",
            "Requirement already satisfied: click>=8 in /usr/local/lib/python3.10/dist-packages (from pip-tools>=6.12.1->super-gradients) (8.1.7)\n",
            "Requirement already satisfied: pip>=22.2 in /usr/local/lib/python3.10/dist-packages (from pip-tools>=6.12.1->super-gradients) (23.1.2)\n",
            "Requirement already satisfied: sphinxcontrib-applehelp in /usr/local/lib/python3.10/dist-packages (from sphinx~=4.0.2->super-gradients) (1.0.4)\n",
            "Requirement already satisfied: sphinxcontrib-devhelp in /usr/local/lib/python3.10/dist-packages (from sphinx~=4.0.2->super-gradients) (1.0.2)\n",
            "Requirement already satisfied: sphinxcontrib-jsmath in /usr/local/lib/python3.10/dist-packages (from sphinx~=4.0.2->super-gradients) (1.0.1)\n",
            "Requirement already satisfied: sphinxcontrib-htmlhelp in /usr/local/lib/python3.10/dist-packages (from sphinx~=4.0.2->super-gradients) (2.0.1)\n",
            "Requirement already satisfied: sphinxcontrib-serializinghtml in /usr/local/lib/python3.10/dist-packages (from sphinx~=4.0.2->super-gradients) (1.1.5)\n",
            "Requirement already satisfied: sphinxcontrib-qthelp in /usr/local/lib/python3.10/dist-packages (from sphinx~=4.0.2->super-gradients) (1.0.3)\n",
            "Requirement already satisfied: docutils<0.18,>=0.14 in /usr/local/lib/python3.10/dist-packages (from sphinx~=4.0.2->super-gradients) (0.17.1)\n",
            "Requirement already satisfied: snowballstemmer>=1.1 in /usr/local/lib/python3.10/dist-packages (from sphinx~=4.0.2->super-gradients) (2.2.0)\n",
            "Requirement already satisfied: babel>=1.3 in /usr/local/lib/python3.10/dist-packages (from sphinx~=4.0.2->super-gradients) (2.13.1)\n",
            "Requirement already satisfied: alabaster<0.8,>=0.7 in /usr/local/lib/python3.10/dist-packages (from sphinx~=4.0.2->super-gradients) (0.7.13)\n",
            "Requirement already satisfied: imagesize in /usr/local/lib/python3.10/dist-packages (from sphinx~=4.0.2->super-gradients) (1.4.1)\n",
            "Requirement already satisfied: requests>=2.5.0 in /usr/local/lib/python3.10/dist-packages (from sphinx~=4.0.2->super-gradients) (2.31.0)\n",
            "Requirement already satisfied: absl-py>=0.4 in /usr/local/lib/python3.10/dist-packages (from tensorboard>=2.4.1->super-gradients) (1.4.0)\n",
            "Requirement already satisfied: grpcio>=1.48.2 in /usr/local/lib/python3.10/dist-packages (from tensorboard>=2.4.1->super-gradients) (1.59.2)\n",
            "Requirement already satisfied: google-auth<3,>=1.6.3 in /usr/local/lib/python3.10/dist-packages (from tensorboard>=2.4.1->super-gradients) (2.17.3)\n",
            "Requirement already satisfied: google-auth-oauthlib<1.1,>=0.5 in /usr/local/lib/python3.10/dist-packages (from tensorboard>=2.4.1->super-gradients) (1.0.0)\n",
            "Requirement already satisfied: markdown>=2.6.8 in /usr/local/lib/python3.10/dist-packages (from tensorboard>=2.4.1->super-gradients) (3.5.1)\n",
            "Requirement already satisfied: six>1.9 in /usr/local/lib/python3.10/dist-packages (from tensorboard>=2.4.1->super-gradients) (1.16.0)\n",
            "Requirement already satisfied: tensorboard-data-server<0.8.0,>=0.7.0 in /usr/local/lib/python3.10/dist-packages (from tensorboard>=2.4.1->super-gradients) (0.7.2)\n",
            "Requirement already satisfied: werkzeug>=1.0.1 in /usr/local/lib/python3.10/dist-packages (from tensorboard>=2.4.1->super-gradients) (3.0.1)\n",
            "Requirement already satisfied: filelock in /usr/local/lib/python3.10/dist-packages (from torch>=1.9.0->super-gradients) (3.13.1)\n",
            "Requirement already satisfied: networkx in /usr/local/lib/python3.10/dist-packages (from torch>=1.9.0->super-gradients) (3.2.1)\n",
            "Requirement already satisfied: fsspec in /usr/local/lib/python3.10/dist-packages (from torch>=1.9.0->super-gradients) (2023.6.0)\n",
            "Requirement already satisfied: triton==2.1.0 in /usr/local/lib/python3.10/dist-packages (from torch>=1.9.0->super-gradients) (2.1.0)\n",
            "Requirement already satisfied: sphinxcontrib-jquery<5,>=4 in /usr/local/lib/python3.10/dist-packages (from sphinx-rtd-theme->super-gradients) (4.1)\n",
            "Requirement already satisfied: urllib3<2.1,>=1.25.4 in /usr/local/lib/python3.10/dist-packages (from botocore<1.33.0,>=1.32.2->boto3>=1.17.15->super-gradients) (2.0.7)\n",
            "Requirement already satisfied: cachetools<6.0,>=2.0.0 in /usr/local/lib/python3.10/dist-packages (from google-auth<3,>=1.6.3->tensorboard>=2.4.1->super-gradients) (5.3.2)\n",
            "Requirement already satisfied: pyasn1-modules>=0.2.1 in /usr/local/lib/python3.10/dist-packages (from google-auth<3,>=1.6.3->tensorboard>=2.4.1->super-gradients) (0.3.0)\n",
            "Requirement already satisfied: rsa<5,>=3.1.4 in /usr/local/lib/python3.10/dist-packages (from google-auth<3,>=1.6.3->tensorboard>=2.4.1->super-gradients) (4.9)\n",
            "Requirement already satisfied: requests-oauthlib>=0.7.0 in /usr/local/lib/python3.10/dist-packages (from google-auth-oauthlib<1.1,>=0.5->tensorboard>=2.4.1->super-gradients) (1.3.1)\n",
            "Requirement already satisfied: MarkupSafe>=2.0 in /usr/local/lib/python3.10/dist-packages (from jinja2->data-gradients>=0.3.0->super-gradients) (2.1.3)\n",
            "Requirement already satisfied: charset-normalizer<4,>=2 in /usr/local/lib/python3.10/dist-packages (from requests>=2.5.0->sphinx~=4.0.2->super-gradients) (3.3.2)\n",
            "Requirement already satisfied: idna<4,>=2.5 in /usr/local/lib/python3.10/dist-packages (from requests>=2.5.0->sphinx~=4.0.2->super-gradients) (3.4)\n",
            "Requirement already satisfied: certifi>=2017.4.17 in /usr/local/lib/python3.10/dist-packages (from requests>=2.5.0->sphinx~=4.0.2->super-gradients) (2023.7.22)\n",
            "Requirement already satisfied: pyproject_hooks in /usr/local/lib/python3.10/dist-packages (from build->pip-tools>=6.12.1->super-gradients) (1.0.0)\n",
            "Requirement already satisfied: tomli>=1.1.0 in /usr/local/lib/python3.10/dist-packages (from build->pip-tools>=6.12.1->super-gradients) (2.0.1)\n",
            "Requirement already satisfied: humanfriendly>=9.1 in /usr/local/lib/python3.10/dist-packages (from coloredlogs->onnxruntime==1.13.1->super-gradients) (10.0)\n",
            "Requirement already satisfied: scikit-learn in /usr/local/lib/python3.10/dist-packages (from imagededup->data-gradients>=0.3.0->super-gradients) (1.2.2)\n",
            "Requirement already satisfied: PyWavelets in /usr/local/lib/python3.10/dist-packages (from imagededup->data-gradients>=0.3.0->super-gradients) (1.4.1)\n",
            "Requirement already satisfied: markdown-it-py>=2.2.0 in /usr/local/lib/python3.10/dist-packages (from rich->onnx-simplifier<1.0,>=0.4.3->super-gradients) (3.0.0)\n",
            "Requirement already satisfied: pandas>=0.25 in /usr/local/lib/python3.10/dist-packages (from seaborn->data-gradients>=0.3.0->super-gradients) (1.5.3)\n",
            "Requirement already satisfied: mpmath>=0.19 in /usr/local/lib/python3.10/dist-packages (from sympy->onnxruntime==1.13.1->super-gradients) (1.3.0)\n",
            "Requirement already satisfied: webencodings in /usr/local/lib/python3.10/dist-packages (from html5lib>=1.0.1->xhtml2pdf==0.2.11->data-gradients>=0.3.0->super-gradients) (0.5.1)\n",
            "Requirement already satisfied: mdurl~=0.1 in /usr/local/lib/python3.10/dist-packages (from markdown-it-py>=2.2.0->rich->onnx-simplifier<1.0,>=0.4.3->super-gradients) (0.1.2)\n",
            "Requirement already satisfied: pytz>=2020.1 in /usr/local/lib/python3.10/dist-packages (from pandas>=0.25->seaborn->data-gradients>=0.3.0->super-gradients) (2023.3.post1)\n",
            "Requirement already satisfied: pyasn1<0.6.0,>=0.4.6 in /usr/local/lib/python3.10/dist-packages (from pyasn1-modules>=0.2.1->google-auth<3,>=1.6.3->tensorboard>=2.4.1->super-gradients) (0.5.0)\n",
            "Requirement already satisfied: asn1crypto>=1.5.1 in /usr/local/lib/python3.10/dist-packages (from pyHanko>=0.12.1->xhtml2pdf==0.2.11->data-gradients>=0.3.0->super-gradients) (1.5.1)\n",
            "Requirement already satisfied: qrcode>=6.1 in /usr/local/lib/python3.10/dist-packages (from pyHanko>=0.12.1->xhtml2pdf==0.2.11->data-gradients>=0.3.0->super-gradients) (7.4.2)\n",
            "Requirement already satisfied: tzlocal>=4.3 in /usr/local/lib/python3.10/dist-packages (from pyHanko>=0.12.1->xhtml2pdf==0.2.11->data-gradients>=0.3.0->super-gradients) (5.2)\n",
            "Requirement already satisfied: cryptography>=3.3.1 in /usr/local/lib/python3.10/dist-packages (from pyHanko>=0.12.1->xhtml2pdf==0.2.11->data-gradients>=0.3.0->super-gradients) (41.0.5)\n",
            "Requirement already satisfied: oscrypto>=1.1.0 in /usr/local/lib/python3.10/dist-packages (from pyhanko-certvalidator>=0.19.5->xhtml2pdf==0.2.11->data-gradients>=0.3.0->super-gradients) (1.3.0)\n",
            "Requirement already satisfied: uritools>=3.0.1 in /usr/local/lib/python3.10/dist-packages (from pyhanko-certvalidator>=0.19.5->xhtml2pdf==0.2.11->data-gradients>=0.3.0->super-gradients) (4.0.2)\n",
            "Requirement already satisfied: oauthlib>=3.0.0 in /usr/local/lib/python3.10/dist-packages (from requests-oauthlib>=0.7.0->google-auth-oauthlib<1.1,>=0.5->tensorboard>=2.4.1->super-gradients) (3.2.2)\n",
            "Requirement already satisfied: lxml in /usr/local/lib/python3.10/dist-packages (from svglib>=1.2.1->xhtml2pdf==0.2.11->data-gradients>=0.3.0->super-gradients) (4.9.3)\n",
            "Requirement already satisfied: tinycss2>=0.6.0 in /usr/local/lib/python3.10/dist-packages (from svglib>=1.2.1->xhtml2pdf==0.2.11->data-gradients>=0.3.0->super-gradients) (1.2.1)\n",
            "Requirement already satisfied: cssselect2>=0.2.0 in /usr/local/lib/python3.10/dist-packages (from svglib>=1.2.1->xhtml2pdf==0.2.11->data-gradients>=0.3.0->super-gradients) (0.7.0)\n",
            "Requirement already satisfied: joblib>=1.1.1 in /usr/local/lib/python3.10/dist-packages (from scikit-learn->imagededup->data-gradients>=0.3.0->super-gradients) (1.3.2)\n",
            "Requirement already satisfied: threadpoolctl>=2.0.0 in /usr/local/lib/python3.10/dist-packages (from scikit-learn->imagededup->data-gradients>=0.3.0->super-gradients) (3.2.0)\n",
            "Requirement already satisfied: cffi>=1.12 in /usr/local/lib/python3.10/dist-packages (from cryptography>=3.3.1->pyHanko>=0.12.1->xhtml2pdf==0.2.11->data-gradients>=0.3.0->super-gradients) (1.16.0)\n",
            "Requirement already satisfied: pypng in /usr/local/lib/python3.10/dist-packages (from qrcode>=6.1->pyHanko>=0.12.1->xhtml2pdf==0.2.11->data-gradients>=0.3.0->super-gradients) (0.20220715.0)\n",
            "Requirement already satisfied: pycparser in /usr/local/lib/python3.10/dist-packages (from cffi>=1.12->cryptography>=3.3.1->pyHanko>=0.12.1->xhtml2pdf==0.2.11->data-gradients>=0.3.0->super-gradients) (2.21)\n"
          ]
        }
      ],
      "source": [
        "!pip install super-gradients"
      ]
    },
    {
      "cell_type": "code",
      "execution_count": null,
      "metadata": {
        "id": "Vb6klHBxvEJo"
      },
      "outputs": [],
      "source": [
        "\n",
        "import os\n",
        "import shutil\n",
        "import random\n",
        "from tqdm.notebook import tqdm\n",
        "from super_gradients.training import dataloaders\n",
        "from super_gradients.training.dataloaders.dataloaders import coco_detection_yolo_format_train, coco_detection_yolo_format_val\n",
        "import torch\n",
        "from super_gradients.training import models\n",
        "from super_gradients.training.losses import PPYoloELoss\n",
        "from super_gradients.training.metrics import DetectionMetrics_050\n",
        "from super_gradients.training.models.detection_models.pp_yolo_e import PPYoloEPostPredictionCallback\n"
      ]
    },
    {
      "cell_type": "markdown",
      "metadata": {
        "id": "MEBHtSivvEJt"
      },
      "source": [
        "# 💾 Datasets and DataLoaders"
      ]
    },
    {
      "cell_type": "code",
      "execution_count": null,
      "metadata": {
        "id": "_yUlXTdTFYnV"
      },
      "outputs": [],
      "source": [
        "from google.colab import drive\n",
        "drive.mount('/content/drive')"
      ]
    },
    {
      "cell_type": "code",
      "execution_count": null,
      "metadata": {
        "id": "2xs2bjJJvEJu"
      },
      "outputs": [],
      "source": [
        "dataset_params = {\n",
        "    'data_dir':'/content/drive/MyDrive/Avanti Bootcamp ML/face-detection-dataset',\n",
        "    'train_images_dir':'/content/drive/MyDrive/Avanti Bootcamp ML/face-detection-dataset/images/train',\n",
        "    'train_labels_dir':'/content/drive/MyDrive/Avanti Bootcamp ML/face-detection-dataset/labels/train',\n",
        "    'val_images_dir':'/content/drive/MyDrive/Avanti Bootcamp ML/face-detection-dataset/images/val',\n",
        "    'val_labels_dir':'/content/drive/MyDrive/Avanti Bootcamp ML/face-detection-dataset/labels/val',\n",
        "    'test_images_dir':'/content/drive/MyDrive/Avanti Bootcamp ML/face-detection-dataset/images/train',\n",
        "    'test_labels_dir':'/content/drive/MyDrive/Avanti Bootcamp ML/face-detection-dataset/labels/train',\n",
        "    'classes': ['face']\n",
        "}\n"
      ]
    },
    {
      "cell_type": "code",
      "execution_count": null,
      "metadata": {
        "id": "fJK9TjOwvEJv"
      },
      "outputs": [],
      "source": [
        "MODEL_ARCH = 'yolo_nas_l'\n",
        "DEVICE = 'cuda' if torch.cuda.is_available() else \"cpu\"\n",
        "BATCH_SIZE = 8 #pode ser alterado (aumentar valor)\n",
        "MAX_EPOCHS = 20 #pode ser alterado (aumentar valor)\n",
        "CHECKPOINT_DIR = f'/content/drive/MyDrive/Avanti Bootcamp ML/face-detection-dataset/Best_Model/yolo_nas_face'\n",
        "EXPERIMENT_NAME = f'RUN_20231117_151210_044804'\n"
      ]
    },
    {
      "cell_type": "code",
      "execution_count": null,
      "metadata": {
        "id": "TbCJvRervEJv"
      },
      "outputs": [],
      "source": [
        "train_data = coco_detection_yolo_format_train(\n",
        "    dataset_params={\n",
        "        'data_dir': dataset_params['data_dir'],\n",
        "        'images_dir': dataset_params['train_images_dir'],\n",
        "        'labels_dir': dataset_params['train_labels_dir'],\n",
        "        'classes': dataset_params['classes']\n",
        "    },\n",
        "    dataloader_params={\n",
        "        'batch_size': BATCH_SIZE,\n",
        "        'num_workers': 1\n",
        "    }\n",
        ")\n",
        "\n",
        "val_data = coco_detection_yolo_format_val(\n",
        "    dataset_params={\n",
        "        'data_dir': dataset_params['data_dir'],\n",
        "        'images_dir': dataset_params['val_images_dir'],\n",
        "        'labels_dir': dataset_params['val_labels_dir'],\n",
        "        'classes': dataset_params['classes']\n",
        "    },\n",
        "    dataloader_params={\n",
        "        'batch_size': BATCH_SIZE,\n",
        "        'num_workers': 1\n",
        "    }\n",
        ")\n",
        "\n",
        "test_data = coco_detection_yolo_format_val(\n",
        "    dataset_params={\n",
        "        'data_dir': dataset_params['data_dir'],\n",
        "        'images_dir': dataset_params['test_images_dir'],\n",
        "        'labels_dir': dataset_params['test_labels_dir'],\n",
        "        'classes': dataset_params['classes']\n",
        "    },\n",
        "    dataloader_params={\n",
        "        'batch_size': BATCH_SIZE,\n",
        "        'num_workers': 1\n",
        "    }\n",
        ")"
      ]
    },
    {
      "cell_type": "code",
      "execution_count": null,
      "metadata": {
        "id": "a075twcHvEJw"
      },
      "outputs": [],
      "source": [
        "train_data.dataset.transforms"
      ]
    },
    {
      "cell_type": "code",
      "execution_count": null,
      "metadata": {
        "id": "xxBjdax4vEJw"
      },
      "outputs": [],
      "source": [
        "train_data.dataset.plot()"
      ]
    },
    {
      "cell_type": "markdown",
      "metadata": {
        "id": "IM_5m1b-vEJx"
      },
      "source": [
        "# ⚙️ Initializing the model"
      ]
    },
    {
      "cell_type": "code",
      "execution_count": null,
      "metadata": {
        "colab": {
          "base_uri": "https://localhost:8080/"
        },
        "id": "vQOY5fFovEJy",
        "outputId": "7ff56c04-ffba-46dc-8078-6a32d4d696d7"
      },
      "outputs": [
        {
          "output_type": "stream",
          "name": "stderr",
          "text": [
            "[2023-11-17 15:12:08] INFO - checkpoint_utils.py - License Notification: YOLO-NAS pre-trained weights are subjected to the specific license terms and conditions detailed in \n",
            "https://github.com/Deci-AI/super-gradients/blob/master/LICENSE.YOLONAS.md\n",
            "By downloading the pre-trained weight files you agree to comply with these terms.\n"
          ]
        }
      ],
      "source": [
        "model = models.get(\n",
        "    MODEL_ARCH,\n",
        "    num_classes=len(dataset_params['classes']),\n",
        "    pretrained_weights=\"coco\"\n",
        ")"
      ]
    },
    {
      "cell_type": "markdown",
      "metadata": {
        "id": "otnT_10IvEJy"
      },
      "source": [
        "# 🔍 Training parameters"
      ]
    },
    {
      "cell_type": "code",
      "execution_count": null,
      "metadata": {
        "id": "5lY9-wSivEJz"
      },
      "outputs": [],
      "source": [
        "train_params = {\n",
        "    'silent_mode': False,\n",
        "    \"average_best_models\":True,\n",
        "    \"warmup_mode\": \"linear_epoch_step\", #pode ser alterado (LINEAR_STEP = \"LinearEpochLRWarmup\"LINEAR_EPOCH_STEP = \"LinearEpochLRWarmup\" LINEAR_BATCH_STEP = \"LinearBatchLRWarmup\")\n",
        "    \"warmup_initial_lr\": 1e-6, #pode ser alterado (float)\n",
        "    \"lr_warmup_epochs\": 3,#pode ser alterado (float)\n",
        "    \"initial_lr\": 5e-4, #pode ser alterado (float)\n",
        "    \"lr_mode\": \"cosine\", #pode ser alterado ('StepLRScheduler','PolyLRScheduler','CosineLRScheduler','FunctionLRScheduler')\n",
        "    \"cosine_final_lr_ratio\": 0.1, #pode ser alterado ( dev ser levado em conta o lr_mode escolhido)\n",
        "    \"optimizer\": \"Adam\", #pode ser alterado (SGD = \"SGD\"ADAM = \"Adam\" ADAMW = \"AdamW\" RMS_PROP = \"RMSprop\"RMS_PROP_TF = \"RMSpropTF\" LAMB = \"Lamb\" LION = \"Lion\")\n",
        "    \"optimizer_params\": {\"weight_decay\": 0.0001},#pode ser alterado (  :param weight_decay: value to set for the non BN and bias parameter(float, optional))\n",
        "    \"zero_weight_decay_on_bias_and_bn\": True,\n",
        "    \"ema\": True,\n",
        "    \"ema_params\": {\"decay\": 0.9, \"decay_type\": \"threshold\"},#param decay: The maximum decay value\n",
        "    #:param step: Current training step. The unit-range training percentage can be obtained by `step / total_steps`.\n",
        "    #:param total_steps:  Total number of training steps.\n",
        "    #constant: \"ema_params\": {\"decay\": 0.9999, \"decay_type\": \"constant\"} threshold: \"ema_params\": {\"decay\": 0.9999, \"decay_type\": \"threshold\"}\n",
        "    #exp: \"ema_params\": {\"decay\": 0.9999, \"decay_type\": \"exp\", \"beta\": 15}\n",
        "    \"max_epochs\": MAX_EPOCHS,\n",
        "    \"mixed_precision\": True,\n",
        "    \"loss\": PPYoloELoss(\n",
        "        use_static_assigner=False,\n",
        "        num_classes=len(dataset_params['classes']),\n",
        "        reg_max=16\n",
        "    ),\n",
        "    \"valid_metrics_list\": [\n",
        "        DetectionMetrics_050(\n",
        "            score_thres=0.1,\n",
        "            top_k_predictions=300,\n",
        "            num_cls=len(dataset_params['classes']),\n",
        "            normalize_targets=True,\n",
        "            post_prediction_callback=PPYoloEPostPredictionCallback(\n",
        "                score_threshold=0.01,\n",
        "                nms_top_k=1000,\n",
        "                max_predictions=300,\n",
        "                nms_threshold=0.7\n",
        "            )\n",
        "        )\n",
        "    ],\n",
        "    \"metric_to_watch\": 'mAP@0.50'\n",
        "}\n"
      ]
    },
    {
      "cell_type": "markdown",
      "metadata": {
        "id": "yFoUdQGsvEJz"
      },
      "source": [
        "# ⏳ Training the model"
      ]
    },
    {
      "cell_type": "code",
      "execution_count": null,
      "metadata": {
        "id": "huYT_6FQvEJ0"
      },
      "outputs": [],
      "source": [
        "from super_gradients.training import Trainer\n",
        "\n",
        "trainer = Trainer(experiment_name=EXPERIMENT_NAME, ckpt_root_dir=CHECKPOINT_DIR)"
      ]
    },
    {
      "cell_type": "code",
      "execution_count": null,
      "metadata": {
        "id": "K5g4gSnovEJ0"
      },
      "outputs": [],
      "source": [
        "trainer.train(model=model,\n",
        "              training_params=train_params,\n",
        "              train_loader=train_data,\n",
        "              valid_loader=val_data)"
      ]
    },
    {
      "cell_type": "markdown",
      "metadata": {
        "id": "yhPrJlVpvEJ0"
      },
      "source": [
        "# 📈 Inference and Visualization"
      ]
    },
    {
      "cell_type": "code",
      "execution_count": null,
      "metadata": {
        "id": "zPldpuJWvEJ1"
      },
      "outputs": [],
      "source": [
        "best_model = models.get(\n",
        "    MODEL_ARCH,\n",
        "    num_classes=len(dataset_params['classes']),\n",
        "    checkpoint_path=f\"{CHECKPOINT_DIR}/{EXPERIMENT_NAME}/average_model.pth\"\n",
        ").to(DEVICE)"
      ]
    },
    {
      "cell_type": "code",
      "execution_count": null,
      "metadata": {
        "id": "xqm508P9vEJ1"
      },
      "outputs": [],
      "source": [
        "img_1 = \"/content/drive/MyDrive/Avanti Bootcamp ML/face-detection-dataset/Beatles-on-Radio.jpeg\"\n",
        "best_model.predict(img_1).show()"
      ]
    },
    {
      "cell_type": "code",
      "execution_count": null,
      "metadata": {
        "id": "ZgcJwwOVvEJ1"
      },
      "outputs": [],
      "source": [
        "img_2 = \"/content/drive/MyDrive/Avanti Bootcamp ML/face-detection-dataset/alexandre-durao-20.jpeg\"\n",
        "best_model.predict(img_2).show()"
      ]
    },
    {
      "cell_type": "markdown",
      "metadata": {
        "id": "dEXd4m7PvEJ1"
      },
      "source": []
    }
  ],
  "metadata": {
    "colab": {
      "provenance": [],
      "gpuType": "T4",
      "toc_visible": true,
      "include_colab_link": true
    },
    "kernelspec": {
      "display_name": "Python 3",
      "name": "python3"
    },
    "language_info": {
      "codemirror_mode": {
        "name": "ipython",
        "version": 3
      },
      "file_extension": ".py",
      "mimetype": "text/x-python",
      "name": "python",
      "nbconvert_exporter": "python",
      "pygments_lexer": "ipython3",
      "version": "3.10.12"
    },
    "accelerator": "GPU"
  },
  "nbformat": 4,
  "nbformat_minor": 0
}
