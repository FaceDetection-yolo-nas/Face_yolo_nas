{
  "cells": [
    {
      "cell_type": "markdown",
      "metadata": {
        "id": "view-in-github",
        "colab_type": "text"
      },
      "source": [
        "<a href=\"https://colab.research.google.com/github/Gionauta/Avanti-Bootcamp-Machine-Learning/blob/main/Codes/YOLO_NAS_S/AdamW_DETECTION.ipynb\" target=\"_parent\"><img src=\"https://colab.research.google.com/assets/colab-badge.svg\" alt=\"Open In Colab\"/></a>"
      ]
    },
    {
      "cell_type": "markdown",
      "metadata": {
        "id": "M0MBmRBVqz8s"
      },
      "source": [
        "# 💿 Install Dataset"
      ]
    },
    {
      "cell_type": "code",
      "execution_count": null,
      "metadata": {
        "id": "TVhYSEadl-oB"
      },
      "outputs": [],
      "source": [
        "from google.colab import drive\n",
        "drive.mount('/content/drive')"
      ]
    },
    {
      "cell_type": "code",
      "execution_count": null,
      "metadata": {
        "id": "Kd49CZ4Cl53m"
      },
      "outputs": [],
      "source": [
        "!unzip /content/drive/MyDrive/Avanti_Bootcamp/avantiDataReduc.zip"
      ]
    },
    {
      "cell_type": "code",
      "execution_count": null,
      "metadata": {
        "id": "Z_mLMOQ0l53n"
      },
      "outputs": [],
      "source": [
        "!ls"
      ]
    },
    {
      "cell_type": "markdown",
      "metadata": {
        "id": "XW569JvQE5b0"
      },
      "source": [
        "# 📦 Required Dependencies\n",
        "\n"
      ]
    },
    {
      "cell_type": "code",
      "execution_count": null,
      "metadata": {
        "id": "3coIM1lF_qh4"
      },
      "outputs": [],
      "source": [
        "!pip install pyproject-toml"
      ]
    },
    {
      "cell_type": "code",
      "execution_count": null,
      "metadata": {
        "id": "aK6n0BSb930K"
      },
      "outputs": [],
      "source": [
        "!pip install super-gradients"
      ]
    },
    {
      "cell_type": "code",
      "execution_count": null,
      "metadata": {
        "id": "Vb6klHBxvEJo"
      },
      "outputs": [],
      "source": [
        "\n",
        "import os\n",
        "import shutil\n",
        "import random\n",
        "from tqdm.notebook import tqdm\n",
        "from super_gradients.training import dataloaders\n",
        "from super_gradients.training.dataloaders.dataloaders import coco_detection_yolo_format_train, coco_detection_yolo_format_val\n",
        "import torch\n",
        "from super_gradients.training import models\n",
        "from super_gradients.training.losses import PPYoloELoss\n",
        "from super_gradients.training.metrics import DetectionMetrics_050\n",
        "from super_gradients.training.models.detection_models.pp_yolo_e import PPYoloEPostPredictionCallback\n"
      ]
    },
    {
      "cell_type": "markdown",
      "metadata": {
        "id": "MEBHtSivvEJt"
      },
      "source": [
        "# 💾 Datasets and DataLoaders"
      ]
    },
    {
      "cell_type": "code",
      "execution_count": null,
      "metadata": {
        "id": "2xs2bjJJvEJu"
      },
      "outputs": [],
      "source": [
        "dataset_params = {\n",
        "    'data_dir':'/content/avantiDataReduc',\n",
        "    'train_images_dir':'/content/avantiDataReduc/kaggle/input/face-detection-dataset/images/train',\n",
        "    'train_labels_dir':'/content/avantiDataReduc/kaggle/input/face-detection-dataset/labels/train',\n",
        "    'val_images_dir':'/content/avantiDataReduc/kaggle/input/face-detection-dataset/images/val',\n",
        "    'val_labels_dir':'/content/avantiDataReduc/kaggle/input/face-detection-dataset/labels/val',\n",
        "    'test_images_dir':'/content/avantiDataReduc/kaggle/input/face-detection-dataset/images/val',\n",
        "    'test_labels_dir':'/content/avantiDataReduc/kaggle/input/face-detection-dataset/labels/val',\n",
        "     'classes': ['face']\n",
        "}\n"
      ]
    },
    {
      "cell_type": "code",
      "execution_count": null,
      "metadata": {
        "id": "GRaK-DJ0Urha"
      },
      "outputs": [],
      "source": [
        "MODEL_ARCH = 'yolo_nas_m'\n",
        "DEVICE = 'cuda' if torch.cuda.is_available() else \"cpu\"\n",
        "BATCH_SIZE = 16\n",
        "MAX_EPOCHS = 35\n",
        "CHECKPOINT_DIR = f'/content/drive/MyDrive/Avanti_Bootcamp/DATA_SET/RUNs'\n",
        "EXPERIMENT_NAME = f'RUN_S_ADAM'\n"
      ]
    },
    {
      "cell_type": "code",
      "execution_count": null,
      "metadata": {
        "id": "OHMGksV0Urhb"
      },
      "outputs": [],
      "source": [
        "train_data = coco_detection_yolo_format_train(\n",
        "    dataset_params={\n",
        "        'data_dir': dataset_params['data_dir'],\n",
        "        'images_dir': dataset_params['train_images_dir'],\n",
        "        'labels_dir': dataset_params['train_labels_dir'],\n",
        "        'classes': dataset_params['classes']\n",
        "    },\n",
        "    dataloader_params={\n",
        "        'batch_size': BATCH_SIZE,\n",
        "        'num_workers': 1\n",
        "    }\n",
        ")\n",
        "\n",
        "val_data = coco_detection_yolo_format_val(\n",
        "    dataset_params={\n",
        "        'data_dir': dataset_params['data_dir'],\n",
        "        'images_dir': dataset_params['val_images_dir'],\n",
        "        'labels_dir': dataset_params['val_labels_dir'],\n",
        "        'classes': dataset_params['classes']\n",
        "    },\n",
        "    dataloader_params={\n",
        "        'batch_size': BATCH_SIZE,\n",
        "        'num_workers': 1\n",
        "    }\n",
        ")\n",
        "\n",
        "test_data = coco_detection_yolo_format_val(\n",
        "    dataset_params={\n",
        "        'data_dir': dataset_params['data_dir'],\n",
        "        'images_dir': dataset_params['test_images_dir'],\n",
        "        'labels_dir': dataset_params['test_labels_dir'],\n",
        "        'classes': dataset_params['classes']\n",
        "    },\n",
        "    dataloader_params={\n",
        "        'batch_size': BATCH_SIZE,\n",
        "        'num_workers': 1\n",
        "    }\n",
        ")"
      ]
    },
    {
      "cell_type": "code",
      "execution_count": null,
      "metadata": {
        "id": "Tgvv0LmWUrhc"
      },
      "outputs": [],
      "source": [
        "train_data.dataset.transforms"
      ]
    },
    {
      "cell_type": "code",
      "execution_count": null,
      "metadata": {
        "id": "nnydrHLHUrhc"
      },
      "outputs": [],
      "source": [
        "train_data.dataset.plot()"
      ]
    },
    {
      "cell_type": "markdown",
      "metadata": {
        "id": "e0XzL8BmUrhc"
      },
      "source": [
        "# ⚙️ Initializing the model"
      ]
    },
    {
      "cell_type": "code",
      "execution_count": null,
      "metadata": {
        "id": "uwTQssNwUrhd"
      },
      "outputs": [],
      "source": [
        "model = models.get(\n",
        "    MODEL_ARCH,\n",
        "    num_classes=len(dataset_params['classes']),\n",
        "    pretrained_weights=\"coco\"\n",
        ")\n"
      ]
    },
    {
      "cell_type": "markdown",
      "metadata": {
        "id": "3Jlcg_VOUrhd"
      },
      "source": [
        "# 🔍 Training parameters"
      ]
    },
    {
      "cell_type": "code",
      "execution_count": null,
      "metadata": {
        "id": "HxkgAcYEUrhd"
      },
      "outputs": [],
      "source": [
        "train_params = {\n",
        "    'silent_mode': False,\n",
        "    \"average_best_models\":True,\n",
        "    \"warmup_mode\": \"LinearBatchLRWarmup\",\n",
        "    \"warmup_initial_lr\": 1e-6,\n",
        "    \"lr_warmup_epochs\": 3,\n",
        "    \"initial_lr\": 5e-4,\n",
        "    \"lr_mode\": \"CosineLRScheduler\",\n",
        "    \"cosine_final_lr_ratio\": 0.1,\n",
        "    \"optimizer\": \"AdamW\",\n",
        "    \"optimizer_params\": {\"weight_decay\": 0.0001},\n",
        "    \"zero_weight_decay_on_bias_and_bn\": True,\n",
        "    \"ema\": True,\n",
        "    \"ema_params\": {\"decay\": 0.9999, \"decay_type\": \"exp\", \"beta\": 15},\n",
        "    \"max_epochs\": MAX_EPOCHS,\n",
        "    \"mixed_precision\": True,\n",
        "    \"loss\": PPYoloELoss(\n",
        "        use_static_assigner=False,\n",
        "        num_classes=len(dataset_params['classes']),\n",
        "        reg_max=16\n",
        "        ),\n",
        "    \"valid_metrics_list\": [\n",
        "        DetectionMetrics_050(\n",
        "            score_thres=0.1,\n",
        "            top_k_predictions=300,\n",
        "            num_cls=len(dataset_params['classes']),\n",
        "            normalize_targets=True,\n",
        "            post_prediction_callback=PPYoloEPostPredictionCallback(\n",
        "                score_threshold=0.01,\n",
        "                nms_top_k=1000,\n",
        "                max_predictions=300,\n",
        "                nms_threshold=0.5,\n",
        "\n",
        "\n",
        "            )\n",
        "        )\n",
        "    ],\n",
        "    \"metric_to_watch\": 'mAP@0.50'\n",
        "}"
      ]
    },
    {
      "cell_type": "markdown",
      "metadata": {
        "id": "yFoUdQGsvEJz"
      },
      "source": [
        "# ⏳ Training the model"
      ]
    },
    {
      "cell_type": "code",
      "execution_count": null,
      "metadata": {
        "id": "huYT_6FQvEJ0"
      },
      "outputs": [],
      "source": [
        "from super_gradients.training import Trainer\n",
        "\n",
        "trainer = Trainer(experiment_name=EXPERIMENT_NAME, ckpt_root_dir=CHECKPOINT_DIR)"
      ]
    },
    {
      "cell_type": "code",
      "execution_count": null,
      "metadata": {
        "id": "K5g4gSnovEJ0"
      },
      "outputs": [],
      "source": [
        "trainer.train(model=model,\n",
        "              training_params=train_params,\n",
        "              train_loader=train_data,\n",
        "              valid_loader=val_data)"
      ]
    },
    {
      "cell_type": "markdown",
      "metadata": {
        "id": "sciVbAErEwgZ"
      },
      "source": []
    },
    {
      "cell_type": "markdown",
      "metadata": {
        "id": "yhPrJlVpvEJ0"
      },
      "source": [
        "# 📈 Inference and Visualization"
      ]
    },
    {
      "cell_type": "code",
      "execution_count": null,
      "metadata": {
        "id": "zPldpuJWvEJ1"
      },
      "outputs": [],
      "source": [
        "best_model = models.get(\n",
        "    MODEL_ARCH,\n",
        "    num_classes=len(dataset_params['classes']),\n",
        "    checkpoint_path=f\"average_model.pth\"\n",
        ").to(DEVICE)"
      ]
    },
    {
      "cell_type": "code",
      "execution_count": null,
      "metadata": {
        "colab": {
          "background_save": true
        },
        "id": "xqm508P9vEJ1"
      },
      "outputs": [],
      "source": [
        "img_1 = \"\"\n",
        "best_model.predict(img_1).show()"
      ]
    },
    {
      "cell_type": "code",
      "execution_count": null,
      "metadata": {
        "colab": {
          "background_save": true
        },
        "id": "ZgcJwwOVvEJ1"
      },
      "outputs": [],
      "source": [
        "img_2 = \"\"\n",
        "best_model.predict(img_2).show()"
      ]
    }
  ],
  "metadata": {
    "accelerator": "GPU",
    "colab": {
      "collapsed_sections": [
        "M0MBmRBVqz8s",
        "XW569JvQE5b0",
        "MEBHtSivvEJt",
        "e0XzL8BmUrhc",
        "yFoUdQGsvEJz",
        "yhPrJlVpvEJ0"
      ],
      "provenance": [],
      "include_colab_link": true
    },
    "kernelspec": {
      "display_name": "Python 3",
      "name": "python3"
    }
  },
  "nbformat": 4,
  "nbformat_minor": 0
}